{
 "cells": [
  {
   "cell_type": "markdown",
   "id": "375b7c22-0009-4cd3-8423-b4396222c9a4",
   "metadata": {
    "tags": []
   },
   "source": [
    "# WELCOME to the Tranformations and Deduplications of BENGAL-DATA.com"
   ]
  },
  {
   "cell_type": "markdown",
   "id": "6baea1f2-3370-488b-a739-8de2c6bc3fd3",
   "metadata": {
    "tags": []
   },
   "source": [
    "## Imports, Functions, Lists"
   ]
  },
  {
   "cell_type": "code",
   "execution_count": 13,
   "id": "026e9662-104a-4534-b04b-13c2e6bb4b7e",
   "metadata": {},
   "outputs": [],
   "source": [
    "import random\n",
    "import time\n",
    "import json\n",
    "import datetime\n",
    "import pandas as pd\n",
    "import numpy as np"
   ]
  },
  {
   "cell_type": "markdown",
   "id": "935770ef-a5d5-40ef-8ef5-4c2c1650fe30",
   "metadata": {
    "jp-MarkdownHeadingCollapsed": true,
    "tags": []
   },
   "source": [
    "### Jaccard"
   ]
  },
  {
   "cell_type": "code",
   "execution_count": 2,
   "id": "74f818b7-20b1-4337-8ebc-f0f83761d0bf",
   "metadata": {
    "tags": []
   },
   "outputs": [],
   "source": [
    "# zakladny jaccard\n",
    "def jaccard(str1, str2):\n",
    "    set1 = set(str1)\n",
    "    set2 = set(str2)\n",
    "    inter = len(set1 & set2)\n",
    "    union = len(set1 | set2)\n",
    "    return inter / union\n",
    "# obojsmerny jacacard\n",
    "def bidirectional_jaccard(str1, str2):\n",
    "    set1 = set(str1)\n",
    "    set2 = set(str2)\n",
    "\n",
    "    intersection1 = len(set1 & set2)\n",
    "    intersection2 = len(set2 & set1)\n",
    "\n",
    "    union = len(set1 | set2)\n",
    "\n",
    "    return (intersection1 + intersection2) / (2 * union)\n",
    "def jaccard_var(str1, str2):\n",
    "    set1 = set(str1)\n",
    "    set2 = set(str2)\n",
    "\n",
    "    longest = max(str1, str2)\n",
    "    first_intersections = set1 & set2\n",
    "\n",
    "    return len(first_intersections) / (len(longest) + len(first_intersections))\n"
   ]
  },
  {
   "cell_type": "markdown",
   "id": "f1b1ad23-9bda-4bb9-bdbc-a615d22e97fa",
   "metadata": {
    "jp-MarkdownHeadingCollapsed": true,
    "tags": []
   },
   "source": [
    "### Jaro and Jaro-Winkler"
   ]
  },
  {
   "cell_type": "code",
   "execution_count": 3,
   "id": "f077ceaa-8609-475d-b2d0-3a9b99859387",
   "metadata": {
    "tags": []
   },
   "outputs": [],
   "source": [
    "# zakladny jaro\n",
    "def jaro_distance(s1, s2):\n",
    "    if s1 == s2:\n",
    "        return 1.0\n",
    "    len1 = len(s1)\n",
    "    len2 = len(s2)\n",
    "    if len1 == 0 or len2 == 0:\n",
    "        return 0.0\n",
    "    max_dist = (max(len(s1), len(s2)) // 2) - 1\n",
    "    match = 0\n",
    "    hash_s1 = [0] * len(s1)\n",
    "    hash_s2 = [0] * len(s2)\n",
    "    for i in range(len1):\n",
    "        for j in range(max(0, i - max_dist), min(len2, i + max_dist + 1)):\n",
    "            if s1[i] == s2[j] and hash_s2[j] == 0:\n",
    "                hash_s1[i] = 1\n",
    "                hash_s2[j] = 1\n",
    "                match += 1\n",
    "                break\n",
    "    if match == 0:\n",
    "        return 0.0\n",
    "    t = 0\n",
    "    point = 0\n",
    "    for i in range(len1):\n",
    "        if hash_s1[i]:\n",
    "            while hash_s2[point] == 0:\n",
    "                point += 1\n",
    "            if s1[i] != s2[point]:\n",
    "                point += 1\n",
    "                t += 1\n",
    "            else:\n",
    "                point += 1\n",
    "        t /= 2\n",
    "    return (match / len1 + match / len2 + (match - t) / match) / 3.0\n",
    "\n",
    "\n",
    "# zakladny jaro winkler\n",
    "def jaro_winkler(str1, str2):\n",
    "    jaro_dist = jaro_distance(str1, str2)\n",
    "    if jaro_dist > 0.7:\n",
    "        prefix = 0\n",
    "\n",
    "        # Vypočet prefixovej zhodnosti\n",
    "\n",
    "        for i in range(min(len(str1), len(str2))):\n",
    "            if str1[i] == str2[i]:\n",
    "                prefix += 1\n",
    "            else:\n",
    "                break\n",
    "        prefix = min(4, prefix)\n",
    "\n",
    "        jaro_dist += 0.1 * prefix * (1 - jaro_dist)\n",
    "    return jaro_dist"
   ]
  },
  {
   "cell_type": "markdown",
   "id": "dc1d931b-e4aa-4a66-a851-bd3164c894fa",
   "metadata": {
    "jp-MarkdownHeadingCollapsed": true,
    "tags": []
   },
   "source": [
    "### Find duplicates function"
   ]
  },
  {
   "cell_type": "code",
   "execution_count": 4,
   "id": "8f95cc2d-4e2c-41a4-b691-94751c9e1f0c",
   "metadata": {
    "tags": []
   },
   "outputs": [],
   "source": [
    "def similarity(data_par1, data_par2, approved_attributes, treshold):\n",
    "    inc = 0\n",
    "    if data_par1 is not None and data_par2 is not None:\n",
    "        set_1 = approved_attributes\n",
    "        set_2 = set(data_par1.keys()) & set(data_par2.keys())\n",
    "        common_attributes = [x for x in set_1 if x in set_2]\n",
    "        namesSimilarity = 0\n",
    "        for attr in common_attributes:\n",
    "            attr_value1 = data_par1[attr]\n",
    "            attr_value2 = data_par2[attr]\n",
    "\n",
    "            if isinstance(attr_value1, str) and isinstance(attr_value2, str):\n",
    "                # Calculate similarity for string attributes\n",
    "                if attr == \"reg\":\n",
    "                    # Extract and compare only numeric parts of \"reg\" attribute\n",
    "                    reg_num1 = \"\".join(re.findall(r\"[0-9]\", attr_value1))\n",
    "                    reg_num2 = \"\".join(re.findall(r\"[0-9]\", attr_value2))\n",
    "                    similarity_score = jaro_winkler(reg_num1, reg_num2)\n",
    "                else:\n",
    "                    # Calculate Jaro-Winkler similarity for other string attributes\n",
    "\n",
    "                    #Jaccard + jaro, s predpokladom toho ze poddobne retazce by mali mat cca rovnaku sadu znakov\n",
    "                    \"\"\"similarity_score2 = jaccard(attr_value1, attr_value2)\n",
    "                    similarity_score = jaro_winkler(attr_value1, attr_value2) + similarity_score2\"\"\"\n",
    "\n",
    "                    similarity_score = jaro_winkler(attr_value1, attr_value2)\n",
    "\n",
    "                #print(\"--------------------------------\")\n",
    "                #print(attr_value1)\n",
    "                #print(attr_value2)\n",
    "                if attr == \"reg\":\n",
    "                    if similarity_score == 1:\n",
    "                        #print(\"Rovnaké registračné číslo, ide o duplikát.\")\n",
    "                        inc = 1\n",
    "                        break\n",
    "                    else:\n",
    "                        #print(f\"Rozdielne registračné číslo.\")\n",
    "                        if(len(reg_num1) != 0 and len(reg_num2) != 0):\n",
    "                            break\n",
    "                        else:\n",
    "                            #print(\"Nenajdené reg. číslo.\")\n",
    "                            continue\n",
    "                if similarity_score < treshold:\n",
    "                    #print(f\"Tahle číča nie je rovnaká v atribúte '{attr}' s podobnosťou {similarity_score:.2f}\")\n",
    "                    o = 0\n",
    "                else:\n",
    "                    #print(f\"Tahle číča je rovnaká v atribúte '{attr}' s podobnosťou {similarity_score:.2f}.\")\n",
    "                    if(attr == 'dam' or attr == 'sire' or attr == 'name'):\n",
    "                        namesSimilarity += 1\n",
    "\n",
    "            elif isinstance(attr_value1, list) and isinstance(attr_value2, list):\n",
    "                # Calculate Jaccard similarity for list attributes\n",
    "                similarity_score = jaccard(attr_value1, attr_value2)\n",
    "\n",
    "                #print(\"*------------------------------*\")\n",
    "                #print(attr_value1)\n",
    "                #print(attr_value2)\n",
    "                if similarity_score < treshold:\n",
    "                    #print(f\"Tahle číča nie je rovnaká v atribúte '{attr}' s podobnosťou {similarity_score:.2f}\")\n",
    "                    o = 0\n",
    "                else:\n",
    "                    #print(f\"Tahle číča je rovnaká v atribúte '{attr}' s podobnosťou {similarity_score:.2f}\")\n",
    "                    if(attr == \"dame\" or attr == \"sire\" or attr == \"name\"):\n",
    "                        namesSimilarity += 1\n",
    "\n",
    "\n",
    "            if(namesSimilarity >= 3):\n",
    "                #print(f\"Tento záznam číči je duplicát.\")\n",
    "                inc = 1\n",
    "                break\n",
    "    return inc"
   ]
  },
  {
   "cell_type": "markdown",
   "id": "9077ef80-20dd-4626-a5db-7771a1c20267",
   "metadata": {
    "tags": []
   },
   "source": [
    "### Sub-functions"
   ]
  },
  {
   "cell_type": "code",
   "execution_count": 5,
   "id": "52abb173-165b-4039-a900-6f1f5919a7c4",
   "metadata": {
    "tags": []
   },
   "outputs": [],
   "source": [
    "def filter_attributes(data_all, approved_attributes):\n",
    "    filtered_data = []\n",
    "    for cat_json in data_all:\n",
    "        filtered_cat = {key: value for key, value in cat_json.items() if key in approved_attributes}\n",
    "        filtered_data.append(filtered_cat)\n",
    "    return filtered_data\n",
    "\n",
    "# Sample dataset\n",
    "dataset = [\"Abeceda Dongy Black Credit Elytra\", \"Another Example String\", \"Sorting Words Alphabetically\"]"
   ]
  },
  {
   "cell_type": "code",
   "execution_count": 42,
   "id": "02deded2-c835-4aa8-ad17-eba91a359556",
   "metadata": {
    "tags": []
   },
   "outputs": [],
   "source": [
    "# Function to sort words within each string\n",
    "def sort_words_alphabetically(sentence):\n",
    "    words = sentence.str.split()  # Split the string into a list of words\n",
    "    sorted_words = sorted(words)  # Sort the words alphabetically\n",
    "    separator = ' ' \n",
    "    sorted_sentence = ' '.join(' '.join(l) for l in sorted_words)  # Join the sorted words back into a string\n",
    "    return sorted_sentence"
   ]
  },
  {
   "cell_type": "code",
   "execution_count": 33,
   "id": "3afc8edf-2e3d-4236-bff1-b5b48bf36067",
   "metadata": {
    "tags": []
   },
   "outputs": [],
   "source": [
    "def save_cat(cats_list):\n",
    "    print(\"Total cats: \" + str(len(cats_list)))\n",
    "\n",
    "    currentDateTime = datetime.datetime.now().strftime(\"%Y-%m-%d_%H-%M-%S\")\n",
    "    fileName = f\"cats_{currentDateTime}.json\"\n",
    "\n",
    "    with open(fileName, 'w', encoding='utf-8') as outfile:\n",
    "        json.dump(cats_list, outfile, indent=4, ensure_ascii=False)\n",
    "    print(f\"Saved to {fileName}\")"
   ]
  },
  {
   "cell_type": "markdown",
   "id": "8a5c8dde-cae1-4e64-b580-bf53616916cb",
   "metadata": {
    "tags": []
   },
   "source": [
    "#### Lists ####"
   ]
  },
  {
   "cell_type": "code",
   "execution_count": 6,
   "id": "aa32ba22-25e9-4be2-9fcf-dde89ad736c3",
   "metadata": {
    "tags": []
   },
   "outputs": [],
   "source": [
    "approved = [\"cat\",\"reg nr\", \"alternate reg nr\", \"sverak reg\",\n",
    "            \"color\",\"eye color\",\"coatcolor\",\n",
    "            \"sex\", \"breed\",\"date of birth\",\n",
    "            \"sire\", \"sire reg\",\n",
    "            \"dam\", \"dam reg\"]"
   ]
  },
  {
   "cell_type": "markdown",
   "id": "3de15952-f750-4271-b515-1988aba203c8",
   "metadata": {
    "tags": []
   },
   "source": [
    "## 1. Start"
   ]
  },
  {
   "cell_type": "code",
   "execution_count": 7,
   "id": "0c52a136-1528-47c3-b6c7-ca0e20522330",
   "metadata": {
    "tags": []
   },
   "outputs": [],
   "source": [
    "#sorted_dataset = filter_attributes(allCats, approved)\n",
    "allCats = [] \n",
    "with open(\"bengal-data.json\", 'r', encoding='utf-8') as infile:\n",
    "    allCats = json.load(infile)\n",
    "df = pd.DataFrame(allCats)"
   ]
  },
  {
   "cell_type": "markdown",
   "id": "ff17f9f7-dd44-4afa-94e8-c980dce46d9e",
   "metadata": {
    "tags": []
   },
   "source": [
    "## 2. Next there are transformations"
   ]
  },
  {
   "cell_type": "markdown",
   "id": "55ec21ee-c073-43a2-81ff-b0244a8c3dd6",
   "metadata": {
    "jp-MarkdownHeadingCollapsed": true,
    "tags": []
   },
   "source": [
    "### 2.1 Choose only aproved collums"
   ]
  },
  {
   "cell_type": "code",
   "execution_count": 8,
   "id": "ba56bef6-f990-4d9d-9b27-0d2b0853c274",
   "metadata": {
    "tags": []
   },
   "outputs": [],
   "source": [
    "df = df[approved]\n",
    "#df.head()"
   ]
  },
  {
   "cell_type": "markdown",
   "id": "7eb908b8-6e7b-4ac0-9c35-00074c4ad953",
   "metadata": {
    "jp-MarkdownHeadingCollapsed": true,
    "tags": []
   },
   "source": [
    "### 2.1 Rename or change types of columns"
   ]
  },
  {
   "cell_type": "code",
   "execution_count": 17,
   "id": "a7c1e773-19e3-47d9-b71b-9e6f5bddc382",
   "metadata": {
    "tags": []
   },
   "outputs": [],
   "source": [
    "df.rename(columns = {'cat':'name'}, inplace = True)\n",
    "df = df.astype({'name':'str', 'sire':'str','dam':'str',\n",
    "                'reg nr':'str','alternate reg nr':'str','sverak reg':'str',\n",
    "})"
   ]
  },
  {
   "cell_type": "markdown",
   "id": "8eb20253-b5d8-4413-b1a0-e8da4f938cc3",
   "metadata": {
    "jp-MarkdownHeadingCollapsed": true,
    "tags": []
   },
   "source": [
    "### 2.3 second transformation, filling of nan reg nums"
   ]
  },
  {
   "cell_type": "code",
   "execution_count": 9,
   "id": "e1dd1d09-b62e-4fa6-9161-9e426b164f0c",
   "metadata": {
    "tags": []
   },
   "outputs": [],
   "source": [
    "df[\"alternate reg nr\"].fillna(df[\"sverak reg\"], inplace=True)\n",
    "df[\"reg nr\"].fillna(df[\"alternate reg nr\"], inplace=True)\n",
    "\n",
    "tm = df[(df[\"alternate reg nr\"] == df[\"sverak reg\"])]\n",
    "df.loc[(df[\"alternate reg nr\"] == df[\"sverak reg\"]), \"sverak reg\"] = np.nan\n",
    "\n",
    "tp = df.loc[(df[\"reg nr\"] == df[\"alternate reg nr\"])]\n",
    "df.loc[(df[\"reg nr\"] == df[\"alternate reg nr\"]), \"alternate reg nr\"] = np.nan"
   ]
  },
  {
   "cell_type": "code",
   "execution_count": 10,
   "id": "ddebbc2d-df88-4801-84f1-a89fc6a6a8d3",
   "metadata": {
    "tags": []
   },
   "outputs": [
    {
     "data": {
      "text/html": [
       "<div>\n",
       "<style scoped>\n",
       "    .dataframe tbody tr th:only-of-type {\n",
       "        vertical-align: middle;\n",
       "    }\n",
       "\n",
       "    .dataframe tbody tr th {\n",
       "        vertical-align: top;\n",
       "    }\n",
       "\n",
       "    .dataframe thead th {\n",
       "        text-align: right;\n",
       "    }\n",
       "</style>\n",
       "<table border=\"1\" class=\"dataframe\">\n",
       "  <thead>\n",
       "    <tr style=\"text-align: right;\">\n",
       "      <th></th>\n",
       "      <th>cat</th>\n",
       "      <th>reg nr</th>\n",
       "      <th>alternate reg nr</th>\n",
       "      <th>sverak reg</th>\n",
       "      <th>color</th>\n",
       "      <th>eye color</th>\n",
       "      <th>coatcolor</th>\n",
       "      <th>sex</th>\n",
       "      <th>breed</th>\n",
       "      <th>date of birth</th>\n",
       "      <th>sire</th>\n",
       "      <th>sire reg</th>\n",
       "      <th>dam</th>\n",
       "      <th>dam reg</th>\n",
       "    </tr>\n",
       "  </thead>\n",
       "  <tbody>\n",
       "    <tr>\n",
       "      <th>753</th>\n",
       "      <td>CH MUMINDALENS MIDAS</td>\n",
       "      <td>SBT 111010 005</td>\n",
       "      <td>(SE)SVERAKRX273539</td>\n",
       "      <td>NaN</td>\n",
       "      <td>BROWN (BLACK) SPOTTED TABBY</td>\n",
       "      <td>NaN</td>\n",
       "      <td>NaN</td>\n",
       "      <td>Male</td>\n",
       "      <td>BENGAL</td>\n",
       "      <td>2010-11-10</td>\n",
       "      <td>HALLMARK SILVERSTREAM MOONSTRING</td>\n",
       "      <td>SBT 080405 011</td>\n",
       "      <td>MUMINDALENS BEN KISLA</td>\n",
       "      <td>SBT 060205 042</td>\n",
       "    </tr>\n",
       "    <tr>\n",
       "      <th>783</th>\n",
       "      <td>MAINSTREET MYSTIC WIND</td>\n",
       "      <td>SBT 022810 001</td>\n",
       "      <td>(SE)SVERAKRX271117</td>\n",
       "      <td>NaN</td>\n",
       "      <td>BROWN (BLACK) SPOTTED TABBY</td>\n",
       "      <td>NaN</td>\n",
       "      <td>NaN</td>\n",
       "      <td>Female</td>\n",
       "      <td>BENGAL</td>\n",
       "      <td>2010-02-28</td>\n",
       "      <td>MAINSTREET WITHOUT WARNING</td>\n",
       "      <td>SBT 081408 024</td>\n",
       "      <td>RW SGC MAINSTREET RESTLESS SPIRIT</td>\n",
       "      <td>SBT 011608 019</td>\n",
       "    </tr>\n",
       "    <tr>\n",
       "      <th>822</th>\n",
       "      <td>ABSOLUTELY ELIZAS DARLING</td>\n",
       "      <td>SBT 022110 007</td>\n",
       "      <td>(SE)SVERAKRX270417</td>\n",
       "      <td>NaN</td>\n",
       "      <td>BROWN (BLACK) SPOTTED TABBY</td>\n",
       "      <td>NaN</td>\n",
       "      <td>NaN</td>\n",
       "      <td>Female</td>\n",
       "      <td>BENGAL</td>\n",
       "      <td>2010-02-21</td>\n",
       "      <td>SGC ABSOLUTELY CATEGORY FIVE</td>\n",
       "      <td>SBT 071607 019</td>\n",
       "      <td>ABSOLUTELY BLACK MAGIC WOMAN</td>\n",
       "      <td>SBT 090908 023</td>\n",
       "    </tr>\n",
       "    <tr>\n",
       "      <th>1017</th>\n",
       "      <td>LYNXLAND BAGHEERA</td>\n",
       "      <td>SBT 092813 012</td>\n",
       "      <td>(SE)SVERAKRX310009</td>\n",
       "      <td>NaN</td>\n",
       "      <td>BROWN (BLACK) SPOTTED TABBY</td>\n",
       "      <td>NaN</td>\n",
       "      <td>NaN</td>\n",
       "      <td>Male</td>\n",
       "      <td>BENGAL</td>\n",
       "      <td>2013-09-28</td>\n",
       "      <td>WILDSTYLE LUCIFER OF GOLDLEOPARD</td>\n",
       "      <td>SBT 011012 013</td>\n",
       "      <td>LYNXLAND ZORANA</td>\n",
       "      <td>SBT 092012 058</td>\n",
       "    </tr>\n",
       "    <tr>\n",
       "      <th>1194</th>\n",
       "      <td>SILVERSPIRIT'S LUNAR ECLIPS</td>\n",
       "      <td>(SE)SVERAKRX300093</td>\n",
       "      <td>NaN</td>\n",
       "      <td>NaN</td>\n",
       "      <td>BROWN (BLACK) SPOTTED TABBY</td>\n",
       "      <td>NaN</td>\n",
       "      <td>NaN</td>\n",
       "      <td>Female</td>\n",
       "      <td>BENGAL</td>\n",
       "      <td>2013-07-16</td>\n",
       "      <td>QUEENANNE GREAT BALLSOFFIRE</td>\n",
       "      <td>SBT 041108 032</td>\n",
       "      <td>BENGA SILVERSPIRITS MOON</td>\n",
       "      <td>(DK)FDLO158988</td>\n",
       "    </tr>\n",
       "  </tbody>\n",
       "</table>\n",
       "</div>"
      ],
      "text/plain": [
       "                              cat              reg nr    alternate reg nr  \\\n",
       "753          CH MUMINDALENS MIDAS      SBT 111010 005  (SE)SVERAKRX273539   \n",
       "783        MAINSTREET MYSTIC WIND      SBT 022810 001  (SE)SVERAKRX271117   \n",
       "822     ABSOLUTELY ELIZAS DARLING      SBT 022110 007  (SE)SVERAKRX270417   \n",
       "1017            LYNXLAND BAGHEERA      SBT 092813 012  (SE)SVERAKRX310009   \n",
       "1194  SILVERSPIRIT'S LUNAR ECLIPS  (SE)SVERAKRX300093                 NaN   \n",
       "\n",
       "     sverak reg                        color eye color coatcolor     sex  \\\n",
       "753         NaN  BROWN (BLACK) SPOTTED TABBY       NaN       NaN    Male   \n",
       "783         NaN  BROWN (BLACK) SPOTTED TABBY       NaN       NaN  Female   \n",
       "822         NaN  BROWN (BLACK) SPOTTED TABBY       NaN       NaN  Female   \n",
       "1017        NaN  BROWN (BLACK) SPOTTED TABBY       NaN       NaN    Male   \n",
       "1194        NaN  BROWN (BLACK) SPOTTED TABBY       NaN       NaN  Female   \n",
       "\n",
       "       breed date of birth                              sire        sire reg  \\\n",
       "753   BENGAL    2010-11-10  HALLMARK SILVERSTREAM MOONSTRING  SBT 080405 011   \n",
       "783   BENGAL    2010-02-28        MAINSTREET WITHOUT WARNING  SBT 081408 024   \n",
       "822   BENGAL    2010-02-21      SGC ABSOLUTELY CATEGORY FIVE  SBT 071607 019   \n",
       "1017  BENGAL    2013-09-28  WILDSTYLE LUCIFER OF GOLDLEOPARD  SBT 011012 013   \n",
       "1194  BENGAL    2013-07-16       QUEENANNE GREAT BALLSOFFIRE  SBT 041108 032   \n",
       "\n",
       "                                    dam         dam reg  \n",
       "753               MUMINDALENS BEN KISLA  SBT 060205 042  \n",
       "783   RW SGC MAINSTREET RESTLESS SPIRIT  SBT 011608 019  \n",
       "822        ABSOLUTELY BLACK MAGIC WOMAN  SBT 090908 023  \n",
       "1017                    LYNXLAND ZORANA  SBT 092012 058  \n",
       "1194           BENGA SILVERSPIRITS MOON  (DK)FDLO158988  "
      ]
     },
     "execution_count": 10,
     "metadata": {},
     "output_type": "execute_result"
    }
   ],
   "source": [
    "df.loc[tm.index].head()"
   ]
  },
  {
   "cell_type": "markdown",
   "id": "6832b683-0d4d-4464-850f-8a4129a89eea",
   "metadata": {},
   "source": [
    "### 2.3 Deduplication"
   ]
  },
  {
   "cell_type": "markdown",
   "id": "c40f722e-a0ed-41af-a4d3-a00d45613068",
   "metadata": {},
   "source": [
    "#### 2.3.1 Sorted sub-set of names"
   ]
  },
  {
   "cell_type": "code",
   "execution_count": 48,
   "id": "a5ceca9c-290c-4cc4-9608-628ff5a81029",
   "metadata": {
    "tags": []
   },
   "outputs": [
    {
     "data": {
      "text/html": [
       "<div>\n",
       "<style scoped>\n",
       "    .dataframe tbody tr th:only-of-type {\n",
       "        vertical-align: middle;\n",
       "    }\n",
       "\n",
       "    .dataframe tbody tr th {\n",
       "        vertical-align: top;\n",
       "    }\n",
       "\n",
       "    .dataframe thead th {\n",
       "        text-align: right;\n",
       "    }\n",
       "</style>\n",
       "<table border=\"1\" class=\"dataframe\">\n",
       "  <thead>\n",
       "    <tr style=\"text-align: right;\">\n",
       "      <th></th>\n",
       "      <th>name</th>\n",
       "      <th>sire</th>\n",
       "      <th>dam</th>\n",
       "    </tr>\n",
       "  </thead>\n",
       "  <tbody>\n",
       "    <tr>\n",
       "      <th>0</th>\n",
       "      <td>ALOTASPOTS KING LEO</td>\n",
       "      <td>MILLWOOD LOTTY OF JUNGLEBOOK</td>\n",
       "      <td>MILLWOOD KODACHROME OF JUNGLEBOOK</td>\n",
       "    </tr>\n",
       "    <tr>\n",
       "      <th>1</th>\n",
       "      <td>ALOTASPOTS KING RUMIEN</td>\n",
       "      <td>MILLWOOD LOTTY OF JUNGLEBOOK</td>\n",
       "      <td>MILLWOOD MOONLIGHT MAGIC</td>\n",
       "    </tr>\n",
       "    <tr>\n",
       "      <th>2</th>\n",
       "      <td>ALOTASPOTS MAGIC SPOTS</td>\n",
       "      <td>MILLWOOD LOTTY OF JUNGLEBOOK</td>\n",
       "      <td>MILLWOOD MOONLIGHT MAGIC</td>\n",
       "    </tr>\n",
       "    <tr>\n",
       "      <th>3</th>\n",
       "      <td>ALOTASPOTS MONA LISA</td>\n",
       "      <td>LIONSMOUNTAIN BENJAMIN</td>\n",
       "      <td>LIONSMOUNTAIN BONNIE</td>\n",
       "    </tr>\n",
       "    <tr>\n",
       "      <th>4</th>\n",
       "      <td>ALOTASPOTS TIGERR</td>\n",
       "      <td>MILLWOOD LOTTY OF JUNGLEBOOK</td>\n",
       "      <td>MILLWOOD MOONLIGHT MAGIC</td>\n",
       "    </tr>\n",
       "  </tbody>\n",
       "</table>\n",
       "</div>"
      ],
      "text/plain": [
       "                     name                          sire  \\\n",
       "0     ALOTASPOTS KING LEO  MILLWOOD LOTTY OF JUNGLEBOOK   \n",
       "1  ALOTASPOTS KING RUMIEN  MILLWOOD LOTTY OF JUNGLEBOOK   \n",
       "2  ALOTASPOTS MAGIC SPOTS  MILLWOOD LOTTY OF JUNGLEBOOK   \n",
       "3    ALOTASPOTS MONA LISA        LIONSMOUNTAIN BENJAMIN   \n",
       "4       ALOTASPOTS TIGERR  MILLWOOD LOTTY OF JUNGLEBOOK   \n",
       "\n",
       "                                 dam  \n",
       "0  MILLWOOD KODACHROME OF JUNGLEBOOK  \n",
       "1           MILLWOOD MOONLIGHT MAGIC  \n",
       "2           MILLWOOD MOONLIGHT MAGIC  \n",
       "3               LIONSMOUNTAIN BONNIE  \n",
       "4           MILLWOOD MOONLIGHT MAGIC  "
      ]
     },
     "execution_count": 48,
     "metadata": {},
     "output_type": "execute_result"
    }
   ],
   "source": [
    "#1. create subset with only names, for sorting\n",
    "sort_names = df.loc[:, (\"name\", \"sire\", \"dam\")]\n",
    "sort_names.loc[\"name\"] = sort_words_alphabetically(sort_names[\"name\"])\n",
    "sort_names.loc[\"sire\"] = sort_words_alphabetically(sort_names[\"sire\"])\n",
    "sort_names.loc[\"dam\"] = sort_words_alphabetically(sort_names[\"dam\"])\n",
    "#sort_names.head()"
   ]
  },
  {
   "cell_type": "markdown",
   "id": "13771123-a6d3-4009-ad2e-5e766a855499",
   "metadata": {},
   "source": [
    "#### 2.3.1 Accross detection of duplicates"
   ]
  },
  {
   "cell_type": "code",
   "execution_count": null,
   "id": "cc7681fb-b966-4ec4-946f-487a07d03c7b",
   "metadata": {},
   "outputs": [],
   "source": [
    "\"\"\"\n",
    "    for i in range(len(sorted_data_all)):\n",
    "        DUPLICATES = 0\n",
    "        data_1 = sorted_data_all[i]\n",
    "        data_1_ = dataAll[i]\n",
    "        for ii in range(i+1, len(sorted_data_all)):  # for i in range(1000 - i):\n",
    "            isDup = 0\n",
    "            data_2 = sorted_data_all[ii]\n",
    "            data_2_ = dataAll[ii]\n",
    "            if data_1_[\"sex\"] == data_2_[\"sex\"] and data_1_[\"breed\"] == data_2_[\"breed\"]:\n",
    "                isDup = similarity(data_1, data_2, approved, 0.9)\n",
    "            if(isDup != 0):\n",
    "                DUPLICATES += isDup\n",
    "                print(F\"Duplicates: {DUPLICATES}   indx1:{i} indx2:{ii}\")\n",
    "\"\"\"\n",
    "# For pandas dataframe code -->\n",
    "#conn_df = pd.concat([sort_names, df], axis=1)\n",
    "#duplicates = df.loc[ similarity(conn_df, conn_df.shift(-1), approved, 0.9),:]"
   ]
  },
  {
   "cell_type": "markdown",
   "id": "d91d4638-7ec6-47fd-a2ee-d6c0461b6969",
   "metadata": {
    "jp-MarkdownHeadingCollapsed": true,
    "tags": []
   },
   "source": [
    "## 3. Save as json #"
   ]
  },
  {
   "cell_type": "code",
   "execution_count": 11,
   "id": "719ac3fd-60c9-42d7-b1a1-289266161780",
   "metadata": {
    "tags": []
   },
   "outputs": [],
   "source": [
    "#df.to_json('file1.json',)\n",
    "#df.to_json('file2.json', orient = 'split')\n",
    "#df.to_json('file3.json', orient = 'split', compression = 'infer')\n",
    "#df.to_json('file4.json', orient = 'split', compression = 'infer', index = 'true')"
   ]
  },
  {
   "cell_type": "markdown",
   "id": "5b7324a1-1c33-4386-96bd-a69a83f339bb",
   "metadata": {
    "jp-MarkdownHeadingCollapsed": true,
    "tags": []
   },
   "source": [
    "# Bin"
   ]
  },
  {
   "cell_type": "code",
   "execution_count": 12,
   "id": "a05cbae4-5f46-4175-95d7-fb8f12c2f5f4",
   "metadata": {
    "tags": []
   },
   "outputs": [],
   "source": [
    "#cats with all three colmns of reg full\n",
    "#df[(df[\"reg nr\"].notna() == True) & (df[\"alternate reg nr\"].notna() == True) & (df[\"sverak reg\"].notna() == True)]\n",
    "\n",
    "#cats with all three colmns of reg null\n",
    "#df[(df[\"reg nr\"].notna() == False) & (df[\"alternate reg nr\"].notna() == False) & (df[\"sverak reg\"].notna() == False)]\n",
    "\n",
    "#cats where reg nr is null\n",
    "#df[(df[\"reg nr\"].notna() == False)]"
   ]
  }
 ],
 "metadata": {
  "kernelspec": {
   "display_name": "Python 3 (ipykernel)",
   "language": "python",
   "name": "python3"
  },
  "language_info": {
   "codemirror_mode": {
    "name": "ipython",
    "version": 3
   },
   "file_extension": ".py",
   "mimetype": "text/x-python",
   "name": "python",
   "nbconvert_exporter": "python",
   "pygments_lexer": "ipython3",
   "version": "3.7.8"
  }
 },
 "nbformat": 4,
 "nbformat_minor": 5
}
